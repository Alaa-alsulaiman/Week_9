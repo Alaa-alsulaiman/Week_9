{
  "nbformat": 4,
  "nbformat_minor": 0,
  "metadata": {
    "colab": {
      "name": "Untitled5.ipynb",
      "provenance": [],
      "authorship_tag": "ABX9TyN3CrTpdVBHposDSiWDoB3r",
      "include_colab_link": true
    },
    "kernelspec": {
      "name": "python3",
      "display_name": "Python 3"
    },
    "language_info": {
      "name": "python"
    }
  },
  "cells": [
    {
      "cell_type": "markdown",
      "metadata": {
        "id": "view-in-github",
        "colab_type": "text"
      },
      "source": [
        "<a href=\"https://colab.research.google.com/github/Alaa-alsulaiman/Week_9/blob/main/W9A3.ipynb\" target=\"_parent\"><img src=\"https://colab.research.google.com/assets/colab-badge.svg\" alt=\"Open In Colab\"/></a>"
      ]
    },
    {
      "cell_type": "code",
      "execution_count": 66,
      "metadata": {
        "id": "TiRd_e5gHiwa"
      },
      "outputs": [],
      "source": [
        "import hashlib\n",
        "import json\n",
        "import time\n",
        "tx_1 = {\n",
        "   \"addr_from\": \"3J98t1WpEZ73CNmQviecrnyiWrnqRhWNLy\",\n",
        "   \"addr_to\": \"1BvBMSEYstWetqTFn5Au4m4GFg7xJaNVN2\",   \n",
        "   \"amount\": 99.00\n",
        "}\n",
        "tx_2 = {\n",
        "   \"addr_from\": \"1BvBMSEYstWetqTFn5Au4m4GFg7xJaNVN2\",\n",
        "   \"addr_to\": \"3J98t1WpEZ73CNmQviecrnyiWrnqRhWNLy\",   \n",
        "   \"amount\": 97.00\n",
        "}"
      ]
    },
    {
      "cell_type": "code",
      "source": [
        "class Block:\n",
        "    def __init__(self,index:int =0,transactions:list = [],timestamp:int = 0,cur_hash:str = \"\",previous_hash:str =\"\",nonce:int =0):\n",
        "        self.index:int = index\n",
        "        self.transactions:list = transactions\n",
        "        self.timestamp:float = timestamp\n",
        "        self.hash:str = cur_hash\n",
        "        self.previous_hash:str = previous_hash\n",
        "        self.nonce:int = nonce\n",
        "    \n",
        "    def compute_hash(self) -> str:\n",
        "        block_string = json.dumps(self.__dict__, sort_keys=True)\n",
        "        return hashlib.sha256(block_string.encode()).hexdigest()\n"
      ],
      "metadata": {
        "id": "1wWsw5EnitJJ"
      },
      "execution_count": 67,
      "outputs": []
    },
    {
      "cell_type": "code",
      "source": [
        "class Blockchain: \n",
        "    def __init__(self):\n",
        "        self.unconfirmed_transactions:list[dict] = [] #mempool\n",
        "        self.chain:list[Block] = []\n",
        "        self.difficulty:int = 2\n",
        "        self.create_genesis_block()\n",
        "\n",
        "    def get_last_block(self)-> Block:\n",
        "          return self.chain[-1]\n",
        " \n",
        "    def create_genesis_block(self):\n",
        "        genesis_block = Block(index=0, transactions=[], timestamp=time.time(), previous_hash=\"0\")\n",
        "        genesis_block.hash = genesis_block.compute_hash()\n",
        "        self.chain.append(genesis_block)\n",
        "\n",
        "    def proof_of_work(self, block:Block) -> str:\n",
        "          computed_hash = block.compute_hash()\n",
        "\n",
        "          while not computed_hash.startswith('0' * self.difficulty):\n",
        "               block.nonce += 1\n",
        "               computed_hash = block.compute_hash()\n",
        "          return computed_hash \n",
        "   \n",
        "    def is_valid_proof(self, block:Block, block_hash:str)-> bool:\n",
        "      return block_hash.startswith('0' * self.difficulty) and block_hash ==  block.compute_hash()\n",
        "\n",
        "    def add_block(self, block:Block, proof:str) -> bool:\n",
        "        last_block = self.get_last_block()\n",
        "        last_block.hash\n",
        "\n",
        "        if last_block.hash != block.previous_hash:\n",
        "            return False\n",
        "        if not self.is_valid_proof(block, proof):\n",
        "            return False\n",
        "\n",
        "        block.hash = proof\n",
        "        self.chain.append(block)\n",
        "        return True \n",
        "\n",
        "\n",
        "    def add_new_transaction(self, transaction):\n",
        "            self.unconfirmed_transactions.append(transaction)\n",
        "\n",
        "\n",
        "    def mine(self) -> int:\n",
        "          if len(self.unconfirmed_transactions)<1:\n",
        "            return -1      \n",
        "\n",
        "          last_block = self.get_last_block()\n",
        "          self.unconfirmed_transactions.append(tx_1)\n",
        "\n",
        "          new_block = Block(index=last_block.index+1,transactions=self.unconfirmed_transactions,timestamp=int(time.time()),previous_hash=last_block.hash)\n",
        "        \n",
        "          proof = self.proof_of_work(new_block)\n",
        "\n",
        "          self.add_block(new_block, proof)\n",
        "\n",
        "          self.unconfirmed_transactions = []\n",
        "\n",
        "          return new_block.index\n",
        "          "
      ],
      "metadata": {
        "id": "4IFPIaBPitML"
      },
      "execution_count": 78,
      "outputs": []
    },
    {
      "cell_type": "code",
      "source": [
        "bc = Blockchain()\n",
        "[bc.add_new_transaction(tx) for tx in [tx_1,tx_2]]"
      ],
      "metadata": {
        "colab": {
          "base_uri": "https://localhost:8080/"
        },
        "id": "jhUDblNATWkg",
        "outputId": "ab60f879-b3d9-4624-c87d-e5f3e7bb4a57"
      },
      "execution_count": 79,
      "outputs": [
        {
          "output_type": "execute_result",
          "data": {
            "text/plain": [
              "[None, None]"
            ]
          },
          "metadata": {},
          "execution_count": 79
        }
      ]
    },
    {
      "cell_type": "code",
      "source": [
        "bc.unconfirmed_transactions"
      ],
      "metadata": {
        "colab": {
          "base_uri": "https://localhost:8080/"
        },
        "id": "qYIfsOfXhCWe",
        "outputId": "c8e52f0c-24ea-41d7-86d1-23599ba2f9c2"
      },
      "execution_count": 80,
      "outputs": [
        {
          "output_type": "execute_result",
          "data": {
            "text/plain": [
              "[{'addr_from': '3J98t1WpEZ73CNmQviecrnyiWrnqRhWNLy',\n",
              "  'addr_to': '1BvBMSEYstWetqTFn5Au4m4GFg7xJaNVN2',\n",
              "  'amount': 99.0},\n",
              " {'addr_from': '1BvBMSEYstWetqTFn5Au4m4GFg7xJaNVN2',\n",
              "  'addr_to': '3J98t1WpEZ73CNmQviecrnyiWrnqRhWNLy',\n",
              "  'amount': 97.0}]"
            ]
          },
          "metadata": {},
          "execution_count": 80
        }
      ]
    },
    {
      "cell_type": "code",
      "source": [
        "bc.get_last_block().__dict__"
      ],
      "metadata": {
        "colab": {
          "base_uri": "https://localhost:8080/"
        },
        "id": "y8HFx87SitTM",
        "outputId": "77506af4-32b5-4481-ab93-8c0024bd3042"
      },
      "execution_count": 81,
      "outputs": [
        {
          "output_type": "execute_result",
          "data": {
            "text/plain": [
              "{'hash': 'ee139fc559aa0a1dd05ac2e02e1cd572ad227bd9443badf752b1452600a6203b',\n",
              " 'index': 0,\n",
              " 'nonce': 0,\n",
              " 'previous_hash': '0',\n",
              " 'timestamp': 1639329918.5461316,\n",
              " 'transactions': []}"
            ]
          },
          "metadata": {},
          "execution_count": 81
        }
      ]
    },
    {
      "cell_type": "code",
      "source": [
        "bc.mine()"
      ],
      "metadata": {
        "colab": {
          "base_uri": "https://localhost:8080/"
        },
        "id": "n2HQ-PLZitl2",
        "outputId": "9083c7d6-cb89-4624-f56b-e3eda4c36189"
      },
      "execution_count": 82,
      "outputs": [
        {
          "output_type": "execute_result",
          "data": {
            "text/plain": [
              "1"
            ]
          },
          "metadata": {},
          "execution_count": 82
        }
      ]
    }
  ]
}